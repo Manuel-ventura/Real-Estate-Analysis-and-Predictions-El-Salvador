{
 "cells": [
  {
   "cell_type": "code",
   "execution_count": 1,
   "id": "76289164-7ed8-4c92-b230-3f7b4ed5cfb1",
   "metadata": {},
   "outputs": [],
   "source": [
    "import pandas as pd\n",
    "import matplotlib.pyplot as plt\n",
    "import seaborn as sns"
   ]
  },
  {
   "cell_type": "code",
   "execution_count": 2,
   "id": "510f73cb-0612-4139-948c-36ade8706b77",
   "metadata": {},
   "outputs": [
    {
     "data": {
      "text/html": [
       "<div>\n",
       "<style scoped>\n",
       "    .dataframe tbody tr th:only-of-type {\n",
       "        vertical-align: middle;\n",
       "    }\n",
       "\n",
       "    .dataframe tbody tr th {\n",
       "        vertical-align: top;\n",
       "    }\n",
       "\n",
       "    .dataframe thead th {\n",
       "        text-align: right;\n",
       "    }\n",
       "</style>\n",
       "<table border=\"1\" class=\"dataframe\">\n",
       "  <thead>\n",
       "    <tr style=\"text-align: right;\">\n",
       "      <th></th>\n",
       "      <th>localizacion</th>\n",
       "      <th>titulo</th>\n",
       "      <th>descripcion_corta</th>\n",
       "      <th>precio</th>\n",
       "      <th>detalles</th>\n",
       "    </tr>\n",
       "  </thead>\n",
       "  <tbody>\n",
       "    <tr>\n",
       "      <th>0</th>\n",
       "      <td>Nuevo Cuscatlán</td>\n",
       "      <td>Apartamento en venta en Torre Artea, Nuevo Cu...</td>\n",
       "      <td>Encuentra en Propi +500 casas y apartamentos e...</td>\n",
       "      <td>\\n$295,000</td>\n",
       "      <td>\\n,\\n121 m,\\n,\\n3,\\n,\\n2,\\n,\\n2</td>\n",
       "    </tr>\n",
       "    <tr>\n",
       "      <th>1</th>\n",
       "      <td>San Salvador</td>\n",
       "      <td>Apartamento en venta en Puerta Villa Urbana, ...</td>\n",
       "      <td>Agenda visita, oferta y venta en Propi.\\nPreci...</td>\n",
       "      <td>\\n$210,000</td>\n",
       "      <td>\\n,\\n73 m,\\n,\\n2,\\n,\\n2,\\n,\\n2</td>\n",
       "    </tr>\n",
       "    <tr>\n",
       "      <th>2</th>\n",
       "      <td>Santa Tecla</td>\n",
       "      <td>Ubicada en la prestigiosa Colonia Utila, de l...</td>\n",
       "      <td>Ubicada en la prestigiosa Colonia Utila, de la...</td>\n",
       "      <td>\\n$699,999</td>\n",
       "      <td>\\n,\\n550 m,\\n,\\n4,\\n,\\n2,\\n,\\n3</td>\n",
       "    </tr>\n",
       "    <tr>\n",
       "      <th>3</th>\n",
       "      <td>Nuevo Cuscatlán</td>\n",
       "      <td>RESIDENCIAL CONDADO NORTE, NUEVO CUSCATLAN, C...</td>\n",
       "      <td>¡Bienvenidos a Residencial Condado Norte!\\nUbi...</td>\n",
       "      <td>\\n$400,000</td>\n",
       "      <td>\\n,\\n180 m,\\n,\\n4,\\n,\\n3,\\n,\\n3</td>\n",
       "    </tr>\n",
       "    <tr>\n",
       "      <th>4</th>\n",
       "      <td>San Salvador</td>\n",
       "      <td>Vendo casa residencial la florida Nuevo Cusca...</td>\n",
       "      <td>** Casa Moderna de 3 Niveles con Preciosa Vist...</td>\n",
       "      <td>\\n$570,000</td>\n",
       "      <td>\\n,\\n1200 m,\\n,\\n5,\\n,\\n5,\\n,\\n6</td>\n",
       "    </tr>\n",
       "  </tbody>\n",
       "</table>\n",
       "</div>"
      ],
      "text/plain": [
       "      localizacion                                             titulo  \\\n",
       "0  Nuevo Cuscatlán   Apartamento en venta en Torre Artea, Nuevo Cu...   \n",
       "1     San Salvador   Apartamento en venta en Puerta Villa Urbana, ...   \n",
       "2      Santa Tecla   Ubicada en la prestigiosa Colonia Utila, de l...   \n",
       "3  Nuevo Cuscatlán   RESIDENCIAL CONDADO NORTE, NUEVO CUSCATLAN, C...   \n",
       "4     San Salvador   Vendo casa residencial la florida Nuevo Cusca...   \n",
       "\n",
       "                                   descripcion_corta       precio  \\\n",
       "0  Encuentra en Propi +500 casas y apartamentos e...  \\n$295,000    \n",
       "1  Agenda visita, oferta y venta en Propi.\\nPreci...  \\n$210,000    \n",
       "2  Ubicada en la prestigiosa Colonia Utila, de la...  \\n$699,999    \n",
       "3  ¡Bienvenidos a Residencial Condado Norte!\\nUbi...  \\n$400,000    \n",
       "4  ** Casa Moderna de 3 Niveles con Preciosa Vist...  \\n$570,000    \n",
       "\n",
       "                           detalles  \n",
       "0   \\n,\\n121 m,\\n,\\n3,\\n,\\n2,\\n,\\n2  \n",
       "1    \\n,\\n73 m,\\n,\\n2,\\n,\\n2,\\n,\\n2  \n",
       "2   \\n,\\n550 m,\\n,\\n4,\\n,\\n2,\\n,\\n3  \n",
       "3   \\n,\\n180 m,\\n,\\n4,\\n,\\n3,\\n,\\n3  \n",
       "4  \\n,\\n1200 m,\\n,\\n5,\\n,\\n5,\\n,\\n6  "
      ]
     },
     "execution_count": 2,
     "metadata": {},
     "output_type": "execute_result"
    }
   ],
   "source": [
    "# import CSV\n",
    "df = pd.read_csv(r\"C:\\Users\\User\\Desktop\\Data Science Proyect\\Webscraping - Casas en El Salvador\\dataset\\casas_venta_el_salvador.csv\")\n",
    "df.head()"
   ]
  },
  {
   "cell_type": "code",
   "execution_count": 3,
   "id": "3c10f9e3-68ee-48b8-ace1-6db2a3fd6921",
   "metadata": {},
   "outputs": [],
   "source": [
    "df = df.rename(columns={\n",
    "    'localizacion': 'location',\n",
    "    'titulo': 'title',\n",
    "    'descripcion_corta': 'short_description',\n",
    "    'precio': 'price',\n",
    "    'detalles': 'details'\n",
    "})"
   ]
  },
  {
   "cell_type": "code",
   "execution_count": 4,
   "id": "52feaf1d-f29b-4aac-b6a5-4f39e6902c3d",
   "metadata": {},
   "outputs": [
    {
     "name": "stdout",
     "output_type": "stream",
     "text": [
      "<class 'pandas.core.frame.DataFrame'>\n",
      "RangeIndex: 1060 entries, 0 to 1059\n",
      "Data columns (total 5 columns):\n",
      " #   Column             Non-Null Count  Dtype \n",
      "---  ------             --------------  ----- \n",
      " 0   location           1060 non-null   object\n",
      " 1   title              1060 non-null   object\n",
      " 2   short_description  1059 non-null   object\n",
      " 3   price              1060 non-null   object\n",
      " 4   details            1058 non-null   object\n",
      "dtypes: object(5)\n",
      "memory usage: 41.5+ KB\n"
     ]
    }
   ],
   "source": [
    "df.info()"
   ]
  },
  {
   "cell_type": "code",
   "execution_count": 5,
   "id": "9ab2da7e-6b18-44e5-8c24-5e2a5364da51",
   "metadata": {},
   "outputs": [],
   "source": [
    "#Clean the Data\n",
    "# Replace unwanted characters in the 'price' column and handle empty values\n",
    "df['price'] = df['price'].str.replace('[\\n$,]', '', regex=True).replace('', '0').astype(float)"
   ]
  },
  {
   "cell_type": "code",
   "execution_count": 6,
   "id": "b271811d-2c4d-47ba-852a-a7c041e08625",
   "metadata": {},
   "outputs": [],
   "source": [
    "#Handle null values in 'short_description' and 'details'\n",
    "df['short_description'] = df['short_description'].fillna('No description')\n",
    "df['details'] = df['details'].fillna('')"
   ]
  },
  {
   "cell_type": "code",
   "execution_count": 7,
   "id": "83d48215-5b21-488e-b506-e766bc3a28cd",
   "metadata": {},
   "outputs": [],
   "source": [
    "#Split the 'details' column into separate columns\n",
    "details = df['details'].str.split(',', expand=True)"
   ]
  },
  {
   "cell_type": "code",
   "execution_count": 8,
   "id": "a0b18dbe-dbd8-435d-b400-aae10613e1f3",
   "metadata": {},
   "outputs": [],
   "source": [
    "# Assign names to the new columns\n",
    "details.columns = ['na1', 'square_meters', 'na2', 'bedrooms', 'na3', 'parking', 'na4', 'bathroom']\n",
    "\n",
    "#Remove unnecessary columns\n",
    "details = details.drop(columns=['na1', 'na2', 'na3', 'na4'])"
   ]
  },
  {
   "cell_type": "code",
   "execution_count": 9,
   "id": "113333e6-9185-4d7a-bea3-394136a82a79",
   "metadata": {},
   "outputs": [
    {
     "data": {
      "text/html": [
       "<div>\n",
       "<style scoped>\n",
       "    .dataframe tbody tr th:only-of-type {\n",
       "        vertical-align: middle;\n",
       "    }\n",
       "\n",
       "    .dataframe tbody tr th {\n",
       "        vertical-align: top;\n",
       "    }\n",
       "\n",
       "    .dataframe thead th {\n",
       "        text-align: right;\n",
       "    }\n",
       "</style>\n",
       "<table border=\"1\" class=\"dataframe\">\n",
       "  <thead>\n",
       "    <tr style=\"text-align: right;\">\n",
       "      <th></th>\n",
       "      <th>square_meters</th>\n",
       "      <th>bedrooms</th>\n",
       "      <th>parking</th>\n",
       "      <th>bathroom</th>\n",
       "    </tr>\n",
       "  </thead>\n",
       "  <tbody>\n",
       "    <tr>\n",
       "      <th>0</th>\n",
       "      <td>\\n121 m</td>\n",
       "      <td>\\n3</td>\n",
       "      <td>\\n2</td>\n",
       "      <td>\\n2</td>\n",
       "    </tr>\n",
       "    <tr>\n",
       "      <th>1</th>\n",
       "      <td>\\n73 m</td>\n",
       "      <td>\\n2</td>\n",
       "      <td>\\n2</td>\n",
       "      <td>\\n2</td>\n",
       "    </tr>\n",
       "    <tr>\n",
       "      <th>2</th>\n",
       "      <td>\\n550 m</td>\n",
       "      <td>\\n4</td>\n",
       "      <td>\\n2</td>\n",
       "      <td>\\n3</td>\n",
       "    </tr>\n",
       "    <tr>\n",
       "      <th>3</th>\n",
       "      <td>\\n180 m</td>\n",
       "      <td>\\n4</td>\n",
       "      <td>\\n3</td>\n",
       "      <td>\\n3</td>\n",
       "    </tr>\n",
       "    <tr>\n",
       "      <th>4</th>\n",
       "      <td>\\n1200 m</td>\n",
       "      <td>\\n5</td>\n",
       "      <td>\\n5</td>\n",
       "      <td>\\n6</td>\n",
       "    </tr>\n",
       "    <tr>\n",
       "      <th>...</th>\n",
       "      <td>...</td>\n",
       "      <td>...</td>\n",
       "      <td>...</td>\n",
       "      <td>...</td>\n",
       "    </tr>\n",
       "    <tr>\n",
       "      <th>1055</th>\n",
       "      <td>\\n1300 m</td>\n",
       "      <td>\\n5</td>\n",
       "      <td>\\nMás</td>\n",
       "      <td>\\n6</td>\n",
       "    </tr>\n",
       "    <tr>\n",
       "      <th>1056</th>\n",
       "      <td>\\n623 m</td>\n",
       "      <td>\\n4</td>\n",
       "      <td>\\n7</td>\n",
       "      <td>\\n5</td>\n",
       "    </tr>\n",
       "    <tr>\n",
       "      <th>1057</th>\n",
       "      <td>\\n250 m</td>\n",
       "      <td>\\n3</td>\n",
       "      <td>\\n3</td>\n",
       "      <td>\\n3</td>\n",
       "    </tr>\n",
       "    <tr>\n",
       "      <th>1058</th>\n",
       "      <td>\\n320 m</td>\n",
       "      <td>\\n5</td>\n",
       "      <td>\\n1</td>\n",
       "      <td>\\n2</td>\n",
       "    </tr>\n",
       "    <tr>\n",
       "      <th>1059</th>\n",
       "      <td>\\n215 m</td>\n",
       "      <td>\\n2</td>\n",
       "      <td>\\n2</td>\n",
       "      <td>\\n2</td>\n",
       "    </tr>\n",
       "  </tbody>\n",
       "</table>\n",
       "<p>1060 rows × 4 columns</p>\n",
       "</div>"
      ],
      "text/plain": [
       "     square_meters bedrooms parking bathroom\n",
       "0          \\n121 m      \\n3     \\n2      \\n2\n",
       "1           \\n73 m      \\n2     \\n2      \\n2\n",
       "2          \\n550 m      \\n4     \\n2      \\n3\n",
       "3          \\n180 m      \\n4     \\n3      \\n3\n",
       "4         \\n1200 m      \\n5     \\n5      \\n6\n",
       "...            ...      ...     ...      ...\n",
       "1055      \\n1300 m      \\n5   \\nMás      \\n6\n",
       "1056       \\n623 m      \\n4     \\n7      \\n5\n",
       "1057       \\n250 m      \\n3     \\n3      \\n3\n",
       "1058       \\n320 m      \\n5     \\n1      \\n2\n",
       "1059       \\n215 m      \\n2     \\n2      \\n2\n",
       "\n",
       "[1060 rows x 4 columns]"
      ]
     },
     "execution_count": 9,
     "metadata": {},
     "output_type": "execute_result"
    }
   ],
   "source": [
    "details"
   ]
  },
  {
   "cell_type": "code",
   "execution_count": 10,
   "id": "4a29905d-dd6f-4f74-b782-df346b2b2531",
   "metadata": {},
   "outputs": [
    {
     "name": "stdout",
     "output_type": "stream",
     "text": [
      "Valores antes de la limpieza:\n",
      "['121 m' '73 m' '550 m' '180 m' '1200 m' '45 m' '142 m' '112 m' '74 m'\n",
      " '107 m' '237 m' '174 m' '87 m' '770 m' '274 m' '40 m' '72 m' '35 m'\n",
      " '300 m' '620 m' '375 m' '65 m' '234 m' '150 m' '134 m' '400 m' '75 m'\n",
      " '50 m' '160 m' '120 m' '1 m' '242 m' '355 m' '325 m' '130 m' '110 m'\n",
      " '200 m' '3' '266 m' '257 m' '263 m' '340 m' '502 m' '161 m' '132 m'\n",
      " '2286 m' '350 m' '156 m' '467 m' '1348 m' '136 m' '280 m' '135 m' '119 m'\n",
      " '446 m' '155 m' '472 m' '260 m' '549 m' '338 m' '320 m' '450 m' '60 m'\n",
      " '145 m' '143 m' '362 m' '116 m' '1300 m' '146 m' '608 m' '600 m' '99 m'\n",
      " '240 m' '55 m' '117 m' '318 m' '158 m' '198 m' '124 m' '213 m' '210 m'\n",
      " '5000 m' '97 m' '140 m' '3750 m' '267 m' '179 m' '82 m' '226 m' '490 m'\n",
      " '1191 m' '10 m' '197 m' '101 m' '419 m' '1070 m' '118 m' '137 m' '164 m'\n",
      " '376 m' '6800 m' '700 m' '225 m' '100 m' '172 m' '1400 m' '650 m' '524 m'\n",
      " '425 m' '250 m' '78 m' '86 m' '190 m' '70 m' '175 m' '181 m' '488 m'\n",
      " '3526 m' '3538 m' '292 m' '105 m' '205 m' '95 m' '330 m' '215 m' '106 m'\n",
      " '185 m' '512 m' '125 m' '148 m' '54 m' '675 m' '420 m' '789 m' '27 m' '4'\n",
      " '108 m' '535 m' '296 m' '127 m' '177 m' '301 m' '995 m' '800 m' '2602 m'\n",
      " '500 m' '595 m' '56 m' '339 m' '109 m' '509 m' '302 m' '554 m' '343 m'\n",
      " '312 m' '435 m' '18603 m' '92 m' '79 m' '310 m' '83 m' '229 m' '5253 m'\n",
      " None '88 m' '84 m' '243 m' '594 m' '304 m' '131 m' '1080 m' '162 m'\n",
      " '660 m' '448 m' '332 m' '168 m' '157 m' '76 m' '89 m' '853 m' '209 m'\n",
      " '20 m' '255 m' '230 m' '133 m' '206 m' '528 m' '201 m' '93 m' '282 m'\n",
      " '581 m' '593 m' '479 m' '66 m' '309 m' '900 m' '77 m' '111 m' '1398 m'\n",
      " '188 m' '361 m' '625 m' '165 m' '48 m' '487 m' '184 m' '57 m' '113 m'\n",
      " '334 m' '290 m' '562 m' '1220 m' '103 m' '275 m' '63 m' '64 m' '15 m'\n",
      " '49 m' '104 m' '4 m' '277 m' '176 m' '723 m' '474 m' '35000 m' '1256 m'\n",
      " '495 m' '170 m' '96 m' '580 m' '357 m' '1000 m' '470 m' '507 m' '525 m'\n",
      " '1928 m' '216 m' '515 m' '141 m' '80 m' '662 m' '447 m' '128 m'\n",
      " '290640 m' '44 m' '235 m' '2500 m' '10' '523 m' '13978 m' '6' '276 m'\n",
      " '167 m' '21000 m' '32 m' '582 m' '940 m' '1880 m' '4284 m' '129 m'\n",
      " '780 m' '557 m' '575 m' '98 m' '239 m' '587 m' '90 m' '220 m' '247 m'\n",
      " '303 m' '663 m' '759 m' '590 m' '123 m' '540 m' '585 m' '122 m' '750 m'\n",
      " '862 m' '434 m' '285 m' '196 m' '516 m' '147 m' '265 m' '540000 m' '5'\n",
      " '319 m' '609 m' '395 m' '378 m' '1' '126 m' '731 m' '624 m' '238 m'\n",
      " '379 m' '85 m' '81 m' '2' '68 m' '850 m' '947 m' '295 m' '203 m' '622 m'\n",
      " '154 m' '138 m' '769 m' '605 m' '256 m' '17 m' '259 m' '8000 m' '204 m'\n",
      " '656 m' '480 m' '202 m' '543 m' '1009 m' '23 m' '415 m' '863 m' '289 m'\n",
      " '244 m' '476 m' '429 m' '1814 m' '982 m' '55717 m' '1579 m' '370 m'\n",
      " '219 m' '114 m' '262 m' '152 m' '18 m' '270 m' '3610 m' '586 m' '186 m'\n",
      " '764 m' '1117 m' '294 m' '430 m' '4939 m' '10600 m' '687 m' '680 m'\n",
      " '80000 m' '388 m' '762 m' '189 m' '1054 m' '1148 m' '1144 m' '278 m'\n",
      " '584 m' '228 m' '353 m' '981 m' '2059 m' '115 m' '405 m' '6710 m' '441 m'\n",
      " '3023 m' '1687 m' '457 m' '621 m' '182 m' '283 m' '41 m' '483 m' '466 m'\n",
      " '5730 m' '1086575 m' '385 m' '1350 m' '390 m' '412 m' '94 m' '178 m'\n",
      " '19 m' '2026 m' '439 m' '397 m' '166 m' '1087 m' '187 m' '4800 m' '5 m'\n",
      " '218 m' '745 m' '721 m' '374 m' '617 m' '821 m' '2508 m' '860 m' '1344 m'\n",
      " '1268 m' '611 m' '640 m' '368 m' '541 m' '645 m' '715 m' '9 m' '271 m'\n",
      " '519 m' '623 m']\n"
     ]
    },
    {
     "name": "stderr",
     "output_type": "stream",
     "text": [
      "C:\\Users\\User\\AppData\\Local\\Temp\\ipykernel_15196\\3260011920.py:2: FutureWarning: DataFrame.applymap has been deprecated. Use DataFrame.map instead.\n",
      "  details = details.applymap(lambda x: x.strip() if isinstance(x, str) else x)\n"
     ]
    }
   ],
   "source": [
    "#Clean whitespace and handle non-numeric values\n",
    "details = details.applymap(lambda x: x.strip() if isinstance(x, str) else x)\n",
    "\n",
    "#Debugging: Check the values in 'square_meters' before the transformation\n",
    "print(\"Valores antes de la limpieza:\")\n",
    "print(details['square_meters'].unique())"
   ]
  },
  {
   "cell_type": "code",
   "execution_count": 11,
   "id": "e9e241f0-16bf-4361-a632-12f12f676686",
   "metadata": {},
   "outputs": [
    {
     "name": "stdout",
     "output_type": "stream",
     "text": [
      "Valores antes de la limpieza:\n",
      "['121 m' '73 m' '550 m' '180 m' '1200 m' '45 m' '142 m' '112 m' '74 m'\n",
      " '107 m' '237 m' '174 m' '87 m' '770 m' '274 m' '40 m' '72 m' '35 m'\n",
      " '300 m' '620 m' '375 m' '65 m' '234 m' '150 m' '134 m' '400 m' '75 m'\n",
      " '50 m' '160 m' '120 m' '1 m' '242 m' '355 m' '325 m' '130 m' '110 m'\n",
      " '200 m' '3' '266 m' '257 m' '263 m' '340 m' '502 m' '161 m' '132 m'\n",
      " '2286 m' '350 m' '156 m' '467 m' '1348 m' '136 m' '280 m' '135 m' '119 m'\n",
      " '446 m' '155 m' '472 m' '260 m' '549 m' '338 m' '320 m' '450 m' '60 m'\n",
      " '145 m' '143 m' '362 m' '116 m' '1300 m' '146 m' '608 m' '600 m' '99 m'\n",
      " '240 m' '55 m' '117 m' '318 m' '158 m' '198 m' '124 m' '213 m' '210 m'\n",
      " '5000 m' '97 m' '140 m' '3750 m' '267 m' '179 m' '82 m' '226 m' '490 m'\n",
      " '1191 m' '10 m' '197 m' '101 m' '419 m' '1070 m' '118 m' '137 m' '164 m'\n",
      " '376 m' '6800 m' '700 m' '225 m' '100 m' '172 m' '1400 m' '650 m' '524 m'\n",
      " '425 m' '250 m' '78 m' '86 m' '190 m' '70 m' '175 m' '181 m' '488 m'\n",
      " '3526 m' '3538 m' '292 m' '105 m' '205 m' '95 m' '330 m' '215 m' '106 m'\n",
      " '185 m' '512 m' '125 m' '148 m' '54 m' '675 m' '420 m' '789 m' '27 m' '4'\n",
      " '108 m' '535 m' '296 m' '127 m' '177 m' '301 m' '995 m' '800 m' '2602 m'\n",
      " '500 m' '595 m' '56 m' '339 m' '109 m' '509 m' '302 m' '554 m' '343 m'\n",
      " '312 m' '435 m' '18603 m' '92 m' '79 m' '310 m' '83 m' '229 m' '5253 m'\n",
      " None '88 m' '84 m' '243 m' '594 m' '304 m' '131 m' '1080 m' '162 m'\n",
      " '660 m' '448 m' '332 m' '168 m' '157 m' '76 m' '89 m' '853 m' '209 m'\n",
      " '20 m' '255 m' '230 m' '133 m' '206 m' '528 m' '201 m' '93 m' '282 m'\n",
      " '581 m' '593 m' '479 m' '66 m' '309 m' '900 m' '77 m' '111 m' '1398 m'\n",
      " '188 m' '361 m' '625 m' '165 m' '48 m' '487 m' '184 m' '57 m' '113 m'\n",
      " '334 m' '290 m' '562 m' '1220 m' '103 m' '275 m' '63 m' '64 m' '15 m'\n",
      " '49 m' '104 m' '4 m' '277 m' '176 m' '723 m' '474 m' '35000 m' '1256 m'\n",
      " '495 m' '170 m' '96 m' '580 m' '357 m' '1000 m' '470 m' '507 m' '525 m'\n",
      " '1928 m' '216 m' '515 m' '141 m' '80 m' '662 m' '447 m' '128 m'\n",
      " '290640 m' '44 m' '235 m' '2500 m' '10' '523 m' '13978 m' '6' '276 m'\n",
      " '167 m' '21000 m' '32 m' '582 m' '940 m' '1880 m' '4284 m' '129 m'\n",
      " '780 m' '557 m' '575 m' '98 m' '239 m' '587 m' '90 m' '220 m' '247 m'\n",
      " '303 m' '663 m' '759 m' '590 m' '123 m' '540 m' '585 m' '122 m' '750 m'\n",
      " '862 m' '434 m' '285 m' '196 m' '516 m' '147 m' '265 m' '540000 m' '5'\n",
      " '319 m' '609 m' '395 m' '378 m' '1' '126 m' '731 m' '624 m' '238 m'\n",
      " '379 m' '85 m' '81 m' '2' '68 m' '850 m' '947 m' '295 m' '203 m' '622 m'\n",
      " '154 m' '138 m' '769 m' '605 m' '256 m' '17 m' '259 m' '8000 m' '204 m'\n",
      " '656 m' '480 m' '202 m' '543 m' '1009 m' '23 m' '415 m' '863 m' '289 m'\n",
      " '244 m' '476 m' '429 m' '1814 m' '982 m' '55717 m' '1579 m' '370 m'\n",
      " '219 m' '114 m' '262 m' '152 m' '18 m' '270 m' '3610 m' '586 m' '186 m'\n",
      " '764 m' '1117 m' '294 m' '430 m' '4939 m' '10600 m' '687 m' '680 m'\n",
      " '80000 m' '388 m' '762 m' '189 m' '1054 m' '1148 m' '1144 m' '278 m'\n",
      " '584 m' '228 m' '353 m' '981 m' '2059 m' '115 m' '405 m' '6710 m' '441 m'\n",
      " '3023 m' '1687 m' '457 m' '621 m' '182 m' '283 m' '41 m' '483 m' '466 m'\n",
      " '5730 m' '1086575 m' '385 m' '1350 m' '390 m' '412 m' '94 m' '178 m'\n",
      " '19 m' '2026 m' '439 m' '397 m' '166 m' '1087 m' '187 m' '4800 m' '5 m'\n",
      " '218 m' '745 m' '721 m' '374 m' '617 m' '821 m' '2508 m' '860 m' '1344 m'\n",
      " '1268 m' '611 m' '640 m' '368 m' '541 m' '645 m' '715 m' '9 m' '271 m'\n",
      " '519 m' '623 m']\n",
      "Valores después de la limpieza:\n",
      "[    121      73     550     180    1200      45     142     112      74\n",
      "     107     237     174      87     770     274      40      72      35\n",
      "     300     620     375      65     234     150     134     400      75\n",
      "      50     160     120       1     242     355     325     130     110\n",
      "     200       3     266     257     263     340     502     161     132\n",
      "    2286     350     156     467    1348     136     280     135     119\n",
      "     446     155     472     260     549     338     320     450      60\n",
      "     145     143     362     116    1300     146     608     600      99\n",
      "     240      55     117     318     158     198     124     213     210\n",
      "    5000      97     140    3750     267     179      82     226     490\n",
      "    1191      10     197     101     419    1070     118     137     164\n",
      "     376    6800     700     225     100     172    1400     650     524\n",
      "     425     250      78      86     190      70     175     181     488\n",
      "    3526    3538     292     105     205      95     330     215     106\n",
      "     185     512     125     148      54     675     420     789      27\n",
      "       4     108     535     296     127     177     301     995     800\n",
      "    2602     500     595      56     339     109     509     302     554\n",
      "     343     312     435   18603      92      79     310      83     229\n",
      "    5253       0      88      84     243     594     304     131    1080\n",
      "     162     660     448     332     168     157      76      89     853\n",
      "     209      20     255     230     133     206     528     201      93\n",
      "     282     581     593     479      66     309     900      77     111\n",
      "    1398     188     361     625     165      48     487     184      57\n",
      "     113     334     290     562    1220     103     275      63      64\n",
      "      15      49     104     277     176     723     474   35000    1256\n",
      "     495     170      96     580     357    1000     470     507     525\n",
      "    1928     216     515     141      80     662     447     128  290640\n",
      "      44     235    2500     523   13978       6     276     167   21000\n",
      "      32     582     940    1880    4284     129     780     557     575\n",
      "      98     239     587      90     220     247     303     663     759\n",
      "     590     123     540     585     122     750     862     434     285\n",
      "     196     516     147     265  540000       5     319     609     395\n",
      "     378     126     731     624     238     379      85      81       2\n",
      "      68     850     947     295     203     622     154     138     769\n",
      "     605     256      17     259    8000     204     656     480     202\n",
      "     543    1009      23     415     863     289     244     476     429\n",
      "    1814     982   55717    1579     370     219     114     262     152\n",
      "      18     270    3610     586     186     764    1117     294     430\n",
      "    4939   10600     687     680   80000     388     762     189    1054\n",
      "    1148    1144     278     584     228     353     981    2059     115\n",
      "     405    6710     441    3023    1687     457     621     182     283\n",
      "      41     483     466    5730 1086575     385    1350     390     412\n",
      "      94     178      19    2026     439     397     166    1087     187\n",
      "    4800     218     745     721     374     617     821    2508     860\n",
      "    1344    1268     611     640     368     541     645     715       9\n",
      "     271     519     623]\n"
     ]
    },
    {
     "name": "stderr",
     "output_type": "stream",
     "text": [
      "C:\\Users\\User\\AppData\\Local\\Temp\\ipykernel_15196\\1527199236.py:2: FutureWarning: DataFrame.applymap has been deprecated. Use DataFrame.map instead.\n",
      "  details = details.applymap(lambda x: x.strip() if isinstance(x, str) else x)\n"
     ]
    }
   ],
   "source": [
    "#Clean whitespace and handle non-numeric values\n",
    "details = details.applymap(lambda x: x.strip() if isinstance(x, str) else x)\n",
    "\n",
    "#Check the values in 'square_meters' before the transformation\n",
    "print(\"Valores antes de la limpieza:\")\n",
    "print(details['square_meters'].unique())\n",
    "\n",
    "#Handle non-numeric and empty values in 'square_meters'\n",
    "def clean_square_meters(x):\n",
    "    if isinstance(x, str):\n",
    "        x = x.replace(' m', '').strip()  #Remove ' m' and spaces\n",
    "        if x.isdigit():  # Check if the value is a number\n",
    "            return int(x)\n",
    "    return 0  #Return 0 if it is not a valid number\n",
    "\n",
    "details['square_meters'] = details['square_meters'].apply(clean_square_meters)\n",
    "\n",
    "#Check the values in 'square_meters' after the transformation\n",
    "print(\"Valores después de la limpieza:\")\n",
    "print(details['square_meters'].unique())\n"
   ]
  },
  {
   "cell_type": "code",
   "execution_count": 12,
   "id": "7aef4a6c-6be9-4701-b025-436346dd263e",
   "metadata": {},
   "outputs": [
    {
     "data": {
      "text/html": [
       "<div>\n",
       "<style scoped>\n",
       "    .dataframe tbody tr th:only-of-type {\n",
       "        vertical-align: middle;\n",
       "    }\n",
       "\n",
       "    .dataframe tbody tr th {\n",
       "        vertical-align: top;\n",
       "    }\n",
       "\n",
       "    .dataframe thead th {\n",
       "        text-align: right;\n",
       "    }\n",
       "</style>\n",
       "<table border=\"1\" class=\"dataframe\">\n",
       "  <thead>\n",
       "    <tr style=\"text-align: right;\">\n",
       "      <th></th>\n",
       "      <th>square_meters</th>\n",
       "      <th>bedrooms</th>\n",
       "      <th>parking</th>\n",
       "      <th>bathroom</th>\n",
       "    </tr>\n",
       "  </thead>\n",
       "  <tbody>\n",
       "    <tr>\n",
       "      <th>0</th>\n",
       "      <td>121</td>\n",
       "      <td>3</td>\n",
       "      <td>2</td>\n",
       "      <td>2</td>\n",
       "    </tr>\n",
       "    <tr>\n",
       "      <th>1</th>\n",
       "      <td>73</td>\n",
       "      <td>2</td>\n",
       "      <td>2</td>\n",
       "      <td>2</td>\n",
       "    </tr>\n",
       "    <tr>\n",
       "      <th>2</th>\n",
       "      <td>550</td>\n",
       "      <td>4</td>\n",
       "      <td>2</td>\n",
       "      <td>3</td>\n",
       "    </tr>\n",
       "    <tr>\n",
       "      <th>3</th>\n",
       "      <td>180</td>\n",
       "      <td>4</td>\n",
       "      <td>3</td>\n",
       "      <td>3</td>\n",
       "    </tr>\n",
       "    <tr>\n",
       "      <th>4</th>\n",
       "      <td>1200</td>\n",
       "      <td>5</td>\n",
       "      <td>5</td>\n",
       "      <td>6</td>\n",
       "    </tr>\n",
       "    <tr>\n",
       "      <th>...</th>\n",
       "      <td>...</td>\n",
       "      <td>...</td>\n",
       "      <td>...</td>\n",
       "      <td>...</td>\n",
       "    </tr>\n",
       "    <tr>\n",
       "      <th>1055</th>\n",
       "      <td>1300</td>\n",
       "      <td>5</td>\n",
       "      <td>Más</td>\n",
       "      <td>6</td>\n",
       "    </tr>\n",
       "    <tr>\n",
       "      <th>1056</th>\n",
       "      <td>623</td>\n",
       "      <td>4</td>\n",
       "      <td>7</td>\n",
       "      <td>5</td>\n",
       "    </tr>\n",
       "    <tr>\n",
       "      <th>1057</th>\n",
       "      <td>250</td>\n",
       "      <td>3</td>\n",
       "      <td>3</td>\n",
       "      <td>3</td>\n",
       "    </tr>\n",
       "    <tr>\n",
       "      <th>1058</th>\n",
       "      <td>320</td>\n",
       "      <td>5</td>\n",
       "      <td>1</td>\n",
       "      <td>2</td>\n",
       "    </tr>\n",
       "    <tr>\n",
       "      <th>1059</th>\n",
       "      <td>215</td>\n",
       "      <td>2</td>\n",
       "      <td>2</td>\n",
       "      <td>2</td>\n",
       "    </tr>\n",
       "  </tbody>\n",
       "</table>\n",
       "<p>1060 rows × 4 columns</p>\n",
       "</div>"
      ],
      "text/plain": [
       "      square_meters bedrooms parking bathroom\n",
       "0               121        3       2        2\n",
       "1                73        2       2        2\n",
       "2               550        4       2        3\n",
       "3               180        4       3        3\n",
       "4              1200        5       5        6\n",
       "...             ...      ...     ...      ...\n",
       "1055           1300        5     Más        6\n",
       "1056            623        4       7        5\n",
       "1057            250        3       3        3\n",
       "1058            320        5       1        2\n",
       "1059            215        2       2        2\n",
       "\n",
       "[1060 rows x 4 columns]"
      ]
     },
     "execution_count": 12,
     "metadata": {},
     "output_type": "execute_result"
    }
   ],
   "source": [
    "details"
   ]
  },
  {
   "cell_type": "code",
   "execution_count": 13,
   "id": "a2f7519e-f49b-44d3-809b-a625471be50c",
   "metadata": {},
   "outputs": [],
   "source": [
    "details['bedrooms'] = details['bedrooms'].str.extract(r'(\\d+)').fillna('0').astype(int)\n",
    "details['parking'] = details['parking'].str.extract(r'(\\d+)').fillna('0').astype(int)\n",
    "details['bathroom'] = details['bathroom'].str.extract(r'(\\d+)').fillna('0').astype(int)"
   ]
  },
  {
   "cell_type": "code",
   "execution_count": 14,
   "id": "4b40a760-aebd-4a77-8d95-091f78d237cd",
   "metadata": {},
   "outputs": [],
   "source": [
    "#Combine the original DataFrame with the cleaned details\n",
    "df = pd.concat([df, details], axis=1)"
   ]
  },
  {
   "cell_type": "code",
   "execution_count": 15,
   "id": "e69bd35b-1a9e-41a9-9df3-36705fd15ef7",
   "metadata": {},
   "outputs": [],
   "source": [
    "#Remove the original 'details' column\n",
    "df.drop(columns=['details'], inplace=True)"
   ]
  },
  {
   "cell_type": "code",
   "execution_count": 16,
   "id": "27ec5ad1-3670-4012-8bd2-694e8ca6296e",
   "metadata": {},
   "outputs": [
    {
     "name": "stdout",
     "output_type": "stream",
     "text": [
      "<class 'pandas.core.frame.DataFrame'>\n",
      "RangeIndex: 1060 entries, 0 to 1059\n",
      "Data columns (total 8 columns):\n",
      " #   Column             Non-Null Count  Dtype  \n",
      "---  ------             --------------  -----  \n",
      " 0   location           1060 non-null   object \n",
      " 1   title              1060 non-null   object \n",
      " 2   short_description  1060 non-null   object \n",
      " 3   price              1060 non-null   float64\n",
      " 4   square_meters      1060 non-null   int64  \n",
      " 5   bedrooms           1060 non-null   int32  \n",
      " 6   parking            1060 non-null   int32  \n",
      " 7   bathroom           1060 non-null   int32  \n",
      "dtypes: float64(1), int32(3), int64(1), object(3)\n",
      "memory usage: 54.0+ KB\n",
      "None\n"
     ]
    }
   ],
   "source": [
    "#Display the cleaned DataFrame\n",
    "print(df.info())"
   ]
  },
  {
   "cell_type": "code",
   "execution_count": 17,
   "id": "08857c4a-ca57-4292-971e-aa9448ce4946",
   "metadata": {},
   "outputs": [
    {
     "data": {
      "text/html": [
       "<div>\n",
       "<style scoped>\n",
       "    .dataframe tbody tr th:only-of-type {\n",
       "        vertical-align: middle;\n",
       "    }\n",
       "\n",
       "    .dataframe tbody tr th {\n",
       "        vertical-align: top;\n",
       "    }\n",
       "\n",
       "    .dataframe thead th {\n",
       "        text-align: right;\n",
       "    }\n",
       "</style>\n",
       "<table border=\"1\" class=\"dataframe\">\n",
       "  <thead>\n",
       "    <tr style=\"text-align: right;\">\n",
       "      <th></th>\n",
       "      <th>location</th>\n",
       "      <th>title</th>\n",
       "      <th>short_description</th>\n",
       "      <th>price</th>\n",
       "      <th>square_meters</th>\n",
       "      <th>bedrooms</th>\n",
       "      <th>parking</th>\n",
       "      <th>bathroom</th>\n",
       "    </tr>\n",
       "  </thead>\n",
       "  <tbody>\n",
       "    <tr>\n",
       "      <th>0</th>\n",
       "      <td>Nuevo Cuscatlán</td>\n",
       "      <td>Apartamento en venta en Torre Artea, Nuevo Cu...</td>\n",
       "      <td>Encuentra en Propi +500 casas y apartamentos e...</td>\n",
       "      <td>295000.0</td>\n",
       "      <td>121</td>\n",
       "      <td>3</td>\n",
       "      <td>2</td>\n",
       "      <td>2</td>\n",
       "    </tr>\n",
       "    <tr>\n",
       "      <th>1</th>\n",
       "      <td>San Salvador</td>\n",
       "      <td>Apartamento en venta en Puerta Villa Urbana, ...</td>\n",
       "      <td>Agenda visita, oferta y venta en Propi.\\nPreci...</td>\n",
       "      <td>210000.0</td>\n",
       "      <td>73</td>\n",
       "      <td>2</td>\n",
       "      <td>2</td>\n",
       "      <td>2</td>\n",
       "    </tr>\n",
       "    <tr>\n",
       "      <th>2</th>\n",
       "      <td>Santa Tecla</td>\n",
       "      <td>Ubicada en la prestigiosa Colonia Utila, de l...</td>\n",
       "      <td>Ubicada en la prestigiosa Colonia Utila, de la...</td>\n",
       "      <td>699999.0</td>\n",
       "      <td>550</td>\n",
       "      <td>4</td>\n",
       "      <td>2</td>\n",
       "      <td>3</td>\n",
       "    </tr>\n",
       "    <tr>\n",
       "      <th>3</th>\n",
       "      <td>Nuevo Cuscatlán</td>\n",
       "      <td>RESIDENCIAL CONDADO NORTE, NUEVO CUSCATLAN, C...</td>\n",
       "      <td>¡Bienvenidos a Residencial Condado Norte!\\nUbi...</td>\n",
       "      <td>400000.0</td>\n",
       "      <td>180</td>\n",
       "      <td>4</td>\n",
       "      <td>3</td>\n",
       "      <td>3</td>\n",
       "    </tr>\n",
       "    <tr>\n",
       "      <th>4</th>\n",
       "      <td>San Salvador</td>\n",
       "      <td>Vendo casa residencial la florida Nuevo Cusca...</td>\n",
       "      <td>** Casa Moderna de 3 Niveles con Preciosa Vist...</td>\n",
       "      <td>570000.0</td>\n",
       "      <td>1200</td>\n",
       "      <td>5</td>\n",
       "      <td>5</td>\n",
       "      <td>6</td>\n",
       "    </tr>\n",
       "    <tr>\n",
       "      <th>...</th>\n",
       "      <td>...</td>\n",
       "      <td>...</td>\n",
       "      <td>...</td>\n",
       "      <td>...</td>\n",
       "      <td>...</td>\n",
       "      <td>...</td>\n",
       "      <td>...</td>\n",
       "      <td>...</td>\n",
       "    </tr>\n",
       "    <tr>\n",
       "      <th>1055</th>\n",
       "      <td>Antiguo Cuscatlán</td>\n",
       "      <td>PRECIOSA RESIDENCIA EN PORTONES DE MADRESELVA</td>\n",
       "      <td>¡Se Vende! Residencia en Portones de Madreselv...</td>\n",
       "      <td>1980000.0</td>\n",
       "      <td>1300</td>\n",
       "      <td>5</td>\n",
       "      <td>0</td>\n",
       "      <td>6</td>\n",
       "    </tr>\n",
       "    <tr>\n",
       "      <th>1056</th>\n",
       "      <td>Antiguo Cuscatlán</td>\n",
       "      <td>¡SE VENDE HERMOSA CASA EN CUMBRES DE CUSCATLAN!</td>\n",
       "      <td>Se Vende Casa en Cumbres de Cuscatlan.\\n1,250 ...</td>\n",
       "      <td>825000.0</td>\n",
       "      <td>623</td>\n",
       "      <td>4</td>\n",
       "      <td>7</td>\n",
       "      <td>5</td>\n",
       "    </tr>\n",
       "    <tr>\n",
       "      <th>1057</th>\n",
       "      <td>San Salvador</td>\n",
       "      <td>Se vende casa en escalón parte alta</td>\n",
       "      <td>Se vende casa de 2 niveles parte alta del Esca...</td>\n",
       "      <td>255000.0</td>\n",
       "      <td>250</td>\n",
       "      <td>3</td>\n",
       "      <td>3</td>\n",
       "      <td>3</td>\n",
       "    </tr>\n",
       "    <tr>\n",
       "      <th>1058</th>\n",
       "      <td>Chalatenango</td>\n",
       "      <td>Vendo casa en la palma chalatenango</td>\n",
       "      <td>Vendo muy hermosa casa en colonia Cayaguanca l...</td>\n",
       "      <td>180000.0</td>\n",
       "      <td>320</td>\n",
       "      <td>5</td>\n",
       "      <td>1</td>\n",
       "      <td>2</td>\n",
       "    </tr>\n",
       "    <tr>\n",
       "      <th>1059</th>\n",
       "      <td>Chalatenango</td>\n",
       "      <td>Vendo casa en la palma Chalatenango</td>\n",
       "      <td>una muy hermosa casa en una sona comercial en ...</td>\n",
       "      <td>245000.0</td>\n",
       "      <td>215</td>\n",
       "      <td>2</td>\n",
       "      <td>2</td>\n",
       "      <td>2</td>\n",
       "    </tr>\n",
       "  </tbody>\n",
       "</table>\n",
       "<p>1060 rows × 8 columns</p>\n",
       "</div>"
      ],
      "text/plain": [
       "               location                                              title  \\\n",
       "0       Nuevo Cuscatlán   Apartamento en venta en Torre Artea, Nuevo Cu...   \n",
       "1          San Salvador   Apartamento en venta en Puerta Villa Urbana, ...   \n",
       "2           Santa Tecla   Ubicada en la prestigiosa Colonia Utila, de l...   \n",
       "3       Nuevo Cuscatlán   RESIDENCIAL CONDADO NORTE, NUEVO CUSCATLAN, C...   \n",
       "4          San Salvador   Vendo casa residencial la florida Nuevo Cusca...   \n",
       "...                 ...                                                ...   \n",
       "1055  Antiguo Cuscatlán      PRECIOSA RESIDENCIA EN PORTONES DE MADRESELVA   \n",
       "1056  Antiguo Cuscatlán    ¡SE VENDE HERMOSA CASA EN CUMBRES DE CUSCATLAN!   \n",
       "1057       San Salvador                Se vende casa en escalón parte alta   \n",
       "1058       Chalatenango                Vendo casa en la palma chalatenango   \n",
       "1059       Chalatenango                Vendo casa en la palma Chalatenango   \n",
       "\n",
       "                                      short_description      price  \\\n",
       "0     Encuentra en Propi +500 casas y apartamentos e...   295000.0   \n",
       "1     Agenda visita, oferta y venta en Propi.\\nPreci...   210000.0   \n",
       "2     Ubicada en la prestigiosa Colonia Utila, de la...   699999.0   \n",
       "3     ¡Bienvenidos a Residencial Condado Norte!\\nUbi...   400000.0   \n",
       "4     ** Casa Moderna de 3 Niveles con Preciosa Vist...   570000.0   \n",
       "...                                                 ...        ...   \n",
       "1055  ¡Se Vende! Residencia en Portones de Madreselv...  1980000.0   \n",
       "1056  Se Vende Casa en Cumbres de Cuscatlan.\\n1,250 ...   825000.0   \n",
       "1057  Se vende casa de 2 niveles parte alta del Esca...   255000.0   \n",
       "1058  Vendo muy hermosa casa en colonia Cayaguanca l...   180000.0   \n",
       "1059  una muy hermosa casa en una sona comercial en ...   245000.0   \n",
       "\n",
       "      square_meters  bedrooms  parking  bathroom  \n",
       "0               121         3        2         2  \n",
       "1                73         2        2         2  \n",
       "2               550         4        2         3  \n",
       "3               180         4        3         3  \n",
       "4              1200         5        5         6  \n",
       "...             ...       ...      ...       ...  \n",
       "1055           1300         5        0         6  \n",
       "1056            623         4        7         5  \n",
       "1057            250         3        3         3  \n",
       "1058            320         5        1         2  \n",
       "1059            215         2        2         2  \n",
       "\n",
       "[1060 rows x 8 columns]"
      ]
     },
     "execution_count": 17,
     "metadata": {},
     "output_type": "execute_result"
    }
   ],
   "source": [
    "df"
   ]
  },
  {
   "cell_type": "code",
   "execution_count": 18,
   "id": "4233b562-a3c6-45c3-879c-a49caf3acb79",
   "metadata": {},
   "outputs": [],
   "source": [
    "#Format the 'price' column to have commas and no decimals\n",
    "df['price'] = df['price'].apply(lambda x: f'{x:,.0f}')"
   ]
  },
  {
   "cell_type": "code",
   "execution_count": 19,
   "id": "9c6f8363-d8f6-4c53-ade4-fc519541dd98",
   "metadata": {},
   "outputs": [
    {
     "name": "stdout",
     "output_type": "stream",
     "text": [
      "location             0\n",
      "title                0\n",
      "short_description    0\n",
      "price                0\n",
      "square_meters        0\n",
      "bedrooms             0\n",
      "parking              0\n",
      "bathroom             0\n",
      "dtype: int64\n"
     ]
    }
   ],
   "source": [
    "#Check for null values in the DataFrame\n",
    "null_values = df.isnull().sum()\n",
    "print(null_values)"
   ]
  },
  {
   "cell_type": "code",
   "execution_count": 20,
   "id": "6862a468-e3ba-48ab-82cc-f3ffe0678f3d",
   "metadata": {},
   "outputs": [
    {
     "name": "stdout",
     "output_type": "stream",
     "text": [
      "<class 'pandas.core.frame.DataFrame'>\n",
      "RangeIndex: 1060 entries, 0 to 1059\n",
      "Data columns (total 8 columns):\n",
      " #   Column             Non-Null Count  Dtype \n",
      "---  ------             --------------  ----- \n",
      " 0   location           1060 non-null   object\n",
      " 1   title              1060 non-null   object\n",
      " 2   short_description  1060 non-null   object\n",
      " 3   price              1060 non-null   object\n",
      " 4   square_meters      1060 non-null   int64 \n",
      " 5   bedrooms           1060 non-null   int32 \n",
      " 6   parking            1060 non-null   int32 \n",
      " 7   bathroom           1060 non-null   int32 \n",
      "dtypes: int32(3), int64(1), object(4)\n",
      "memory usage: 54.0+ KB\n"
     ]
    }
   ],
   "source": [
    "df.info()"
   ]
  },
  {
   "cell_type": "code",
   "execution_count": 21,
   "id": "77877c4b-ee33-4dd0-ba5c-4a5d14e9f1ff",
   "metadata": {},
   "outputs": [],
   "source": [
    "#Remove commas and convert the 'price' column to integer type\n",
    "df['price'] = df['price'].str.replace(',', '').astype(int)"
   ]
  },
  {
   "cell_type": "code",
   "execution_count": 22,
   "id": "71817ef3-35fa-4076-af49-6e6ca2be4c5e",
   "metadata": {},
   "outputs": [],
   "source": [
    "# Convert text columns to lowercase\n",
    "df['location'] = df['location'].str.lower()\n",
    "df['title'] = df['title'].str.lower()\n",
    "df['short_description'] = df['short_description'].str.lower()"
   ]
  },
  {
   "cell_type": "code",
   "execution_count": 23,
   "id": "71a0f504-f811-4f83-ba0e-4ed15ac781f1",
   "metadata": {},
   "outputs": [],
   "source": [
    "#Remove newline characters in 'short_description'\n",
    "df['short_description'] = df['short_description'].str.replace(r'\\n|\\*\\*', ' ', regex=True)\n",
    "df['title'] = df['title'].str.replace(r'\\n|\\*\\*', ' ', regex=True)"
   ]
  },
  {
   "cell_type": "code",
   "execution_count": 24,
   "id": "66efc133-f996-497a-a711-d92c68bde8fe",
   "metadata": {},
   "outputs": [],
   "source": [
    "#Replace 0 values with 1 in the 'bathroom' column\n",
    "df['bathroom'] = df['bathroom'].replace(0, 1)"
   ]
  },
  {
   "cell_type": "code",
   "execution_count": 25,
   "id": "b5356365-6624-49e5-aa47-2e8b9c64e4a9",
   "metadata": {},
   "outputs": [],
   "source": [
    "#Adjust the index to start from 1\n",
    "df.reset_index(drop=True, inplace=True)\n",
    "df.index = df.index + 1"
   ]
  },
  {
   "cell_type": "code",
   "execution_count": 26,
   "id": "9112574d-56e5-4a8c-8825-9d79778525e9",
   "metadata": {},
   "outputs": [
    {
     "data": {
      "text/html": [
       "<div>\n",
       "<style scoped>\n",
       "    .dataframe tbody tr th:only-of-type {\n",
       "        vertical-align: middle;\n",
       "    }\n",
       "\n",
       "    .dataframe tbody tr th {\n",
       "        vertical-align: top;\n",
       "    }\n",
       "\n",
       "    .dataframe thead th {\n",
       "        text-align: right;\n",
       "    }\n",
       "</style>\n",
       "<table border=\"1\" class=\"dataframe\">\n",
       "  <thead>\n",
       "    <tr style=\"text-align: right;\">\n",
       "      <th></th>\n",
       "      <th>location</th>\n",
       "      <th>title</th>\n",
       "      <th>short_description</th>\n",
       "      <th>price</th>\n",
       "      <th>square_meters</th>\n",
       "      <th>bedrooms</th>\n",
       "      <th>parking</th>\n",
       "      <th>bathroom</th>\n",
       "    </tr>\n",
       "  </thead>\n",
       "  <tbody>\n",
       "    <tr>\n",
       "      <th>1</th>\n",
       "      <td>nuevo cuscatlán</td>\n",
       "      <td>apartamento en venta en torre artea, nuevo cu...</td>\n",
       "      <td>encuentra en propi +500 casas y apartamentos e...</td>\n",
       "      <td>295000</td>\n",
       "      <td>121</td>\n",
       "      <td>3</td>\n",
       "      <td>2</td>\n",
       "      <td>2</td>\n",
       "    </tr>\n",
       "    <tr>\n",
       "      <th>2</th>\n",
       "      <td>san salvador</td>\n",
       "      <td>apartamento en venta en puerta villa urbana, ...</td>\n",
       "      <td>agenda visita, oferta y venta en propi. precio...</td>\n",
       "      <td>210000</td>\n",
       "      <td>73</td>\n",
       "      <td>2</td>\n",
       "      <td>2</td>\n",
       "      <td>2</td>\n",
       "    </tr>\n",
       "    <tr>\n",
       "      <th>3</th>\n",
       "      <td>santa tecla</td>\n",
       "      <td>ubicada en la prestigiosa colonia utila, de l...</td>\n",
       "      <td>ubicada en la prestigiosa colonia utila, de la...</td>\n",
       "      <td>699999</td>\n",
       "      <td>550</td>\n",
       "      <td>4</td>\n",
       "      <td>2</td>\n",
       "      <td>3</td>\n",
       "    </tr>\n",
       "    <tr>\n",
       "      <th>4</th>\n",
       "      <td>nuevo cuscatlán</td>\n",
       "      <td>residencial condado norte, nuevo cuscatlan, c...</td>\n",
       "      <td>¡bienvenidos a residencial condado norte! ubic...</td>\n",
       "      <td>400000</td>\n",
       "      <td>180</td>\n",
       "      <td>4</td>\n",
       "      <td>3</td>\n",
       "      <td>3</td>\n",
       "    </tr>\n",
       "    <tr>\n",
       "      <th>5</th>\n",
       "      <td>san salvador</td>\n",
       "      <td>vendo casa residencial la florida nuevo cusca...</td>\n",
       "      <td>casa moderna de 3 niveles con preciosa vista...</td>\n",
       "      <td>570000</td>\n",
       "      <td>1200</td>\n",
       "      <td>5</td>\n",
       "      <td>5</td>\n",
       "      <td>6</td>\n",
       "    </tr>\n",
       "    <tr>\n",
       "      <th>...</th>\n",
       "      <td>...</td>\n",
       "      <td>...</td>\n",
       "      <td>...</td>\n",
       "      <td>...</td>\n",
       "      <td>...</td>\n",
       "      <td>...</td>\n",
       "      <td>...</td>\n",
       "      <td>...</td>\n",
       "    </tr>\n",
       "    <tr>\n",
       "      <th>1056</th>\n",
       "      <td>antiguo cuscatlán</td>\n",
       "      <td>preciosa residencia en portones de madreselva</td>\n",
       "      <td>¡se vende! residencia en portones de madreselv...</td>\n",
       "      <td>1980000</td>\n",
       "      <td>1300</td>\n",
       "      <td>5</td>\n",
       "      <td>0</td>\n",
       "      <td>6</td>\n",
       "    </tr>\n",
       "    <tr>\n",
       "      <th>1057</th>\n",
       "      <td>antiguo cuscatlán</td>\n",
       "      <td>¡se vende hermosa casa en cumbres de cuscatlan!</td>\n",
       "      <td>se vende casa en cumbres de cuscatlan. 1,250 v...</td>\n",
       "      <td>825000</td>\n",
       "      <td>623</td>\n",
       "      <td>4</td>\n",
       "      <td>7</td>\n",
       "      <td>5</td>\n",
       "    </tr>\n",
       "    <tr>\n",
       "      <th>1058</th>\n",
       "      <td>san salvador</td>\n",
       "      <td>se vende casa en escalón parte alta</td>\n",
       "      <td>se vende casa de 2 niveles parte alta del esca...</td>\n",
       "      <td>255000</td>\n",
       "      <td>250</td>\n",
       "      <td>3</td>\n",
       "      <td>3</td>\n",
       "      <td>3</td>\n",
       "    </tr>\n",
       "    <tr>\n",
       "      <th>1059</th>\n",
       "      <td>chalatenango</td>\n",
       "      <td>vendo casa en la palma chalatenango</td>\n",
       "      <td>vendo muy hermosa casa en colonia cayaguanca l...</td>\n",
       "      <td>180000</td>\n",
       "      <td>320</td>\n",
       "      <td>5</td>\n",
       "      <td>1</td>\n",
       "      <td>2</td>\n",
       "    </tr>\n",
       "    <tr>\n",
       "      <th>1060</th>\n",
       "      <td>chalatenango</td>\n",
       "      <td>vendo casa en la palma chalatenango</td>\n",
       "      <td>una muy hermosa casa en una sona comercial en ...</td>\n",
       "      <td>245000</td>\n",
       "      <td>215</td>\n",
       "      <td>2</td>\n",
       "      <td>2</td>\n",
       "      <td>2</td>\n",
       "    </tr>\n",
       "  </tbody>\n",
       "</table>\n",
       "<p>1060 rows × 8 columns</p>\n",
       "</div>"
      ],
      "text/plain": [
       "               location                                              title  \\\n",
       "1       nuevo cuscatlán   apartamento en venta en torre artea, nuevo cu...   \n",
       "2          san salvador   apartamento en venta en puerta villa urbana, ...   \n",
       "3           santa tecla   ubicada en la prestigiosa colonia utila, de l...   \n",
       "4       nuevo cuscatlán   residencial condado norte, nuevo cuscatlan, c...   \n",
       "5          san salvador   vendo casa residencial la florida nuevo cusca...   \n",
       "...                 ...                                                ...   \n",
       "1056  antiguo cuscatlán      preciosa residencia en portones de madreselva   \n",
       "1057  antiguo cuscatlán    ¡se vende hermosa casa en cumbres de cuscatlan!   \n",
       "1058       san salvador                se vende casa en escalón parte alta   \n",
       "1059       chalatenango                vendo casa en la palma chalatenango   \n",
       "1060       chalatenango                vendo casa en la palma chalatenango   \n",
       "\n",
       "                                      short_description    price  \\\n",
       "1     encuentra en propi +500 casas y apartamentos e...   295000   \n",
       "2     agenda visita, oferta y venta en propi. precio...   210000   \n",
       "3     ubicada en la prestigiosa colonia utila, de la...   699999   \n",
       "4     ¡bienvenidos a residencial condado norte! ubic...   400000   \n",
       "5       casa moderna de 3 niveles con preciosa vista...   570000   \n",
       "...                                                 ...      ...   \n",
       "1056  ¡se vende! residencia en portones de madreselv...  1980000   \n",
       "1057  se vende casa en cumbres de cuscatlan. 1,250 v...   825000   \n",
       "1058  se vende casa de 2 niveles parte alta del esca...   255000   \n",
       "1059  vendo muy hermosa casa en colonia cayaguanca l...   180000   \n",
       "1060  una muy hermosa casa en una sona comercial en ...   245000   \n",
       "\n",
       "      square_meters  bedrooms  parking  bathroom  \n",
       "1               121         3        2         2  \n",
       "2                73         2        2         2  \n",
       "3               550         4        2         3  \n",
       "4               180         4        3         3  \n",
       "5              1200         5        5         6  \n",
       "...             ...       ...      ...       ...  \n",
       "1056           1300         5        0         6  \n",
       "1057            623         4        7         5  \n",
       "1058            250         3        3         3  \n",
       "1059            320         5        1         2  \n",
       "1060            215         2        2         2  \n",
       "\n",
       "[1060 rows x 8 columns]"
      ]
     },
     "execution_count": 26,
     "metadata": {},
     "output_type": "execute_result"
    }
   ],
   "source": [
    "df"
   ]
  },
  {
   "cell_type": "code",
   "execution_count": 27,
   "id": "808504c9-1b7d-49a5-ba85-e8e0d22906c0",
   "metadata": {},
   "outputs": [
    {
     "name": "stdout",
     "output_type": "stream",
     "text": [
      "Number of properties with price 0: 3\n",
      "Number of properties with square meters 0: 2\n"
     ]
    }
   ],
   "source": [
    "#Identify zero values in important columns\n",
    "zero_price = df[df['price'] == 0]\n",
    "zero_square_meters = df[df['square_meters'] == 0]\n",
    "print(f'Number of properties with price 0: {len(zero_price)}')\n",
    "print(f'Number of properties with square meters 0: {len(zero_square_meters)}')"
   ]
  },
  {
   "cell_type": "code",
   "execution_count": 28,
   "id": "8e7756ba-16f6-4a3c-ac3a-d8a33b75a4aa",
   "metadata": {},
   "outputs": [],
   "source": [
    "#Remove properties with zero values in 'price' or 'square_meters'\n",
    "df = df[df['price'] > 0]\n",
    "df = df[df['square_meters'] > 0]"
   ]
  },
  {
   "cell_type": "code",
   "execution_count": 29,
   "id": "96f4ee60-1796-4f71-9c31-14214b68aecc",
   "metadata": {},
   "outputs": [
    {
     "name": "stdout",
     "output_type": "stream",
     "text": [
      "              price  square_meters     bedrooms      parking     bathroom\n",
      "count  1.057000e+03   1.057000e+03  1057.000000  1057.000000  1057.000000\n",
      "mean   4.136065e+05   2.405636e+03     3.410596     2.840114     2.863765\n",
      "std    4.476258e+05   3.847243e+04     1.499937     2.123992     1.821687\n",
      "min    1.000000e+00   1.000000e+00     0.000000     0.000000     1.000000\n",
      "25%    1.500000e+05   1.080000e+02     3.000000     2.000000     2.000000\n",
      "50%    2.830000e+05   2.040000e+02     3.000000     2.000000     3.000000\n",
      "75%    4.750000e+05   4.460000e+02     4.000000     3.000000     4.000000\n",
      "max    5.622435e+06   1.086575e+06    10.000000    20.000000    20.000000\n"
     ]
    }
   ],
   "source": [
    "#Calculate descriptive statistics\n",
    "descriptive_stats = df.describe()\n",
    "print(descriptive_stats)"
   ]
  },
  {
   "cell_type": "code",
   "execution_count": 30,
   "id": "16c0b718-1b04-4738-a9db-0ae161b8df29",
   "metadata": {},
   "outputs": [
    {
     "name": "stdout",
     "output_type": "stream",
     "text": [
      "915    1086575\n",
      "572     540000\n",
      "455     290640\n",
      "819      80000\n",
      "745      55717\n",
      "409      35000\n",
      "474      21000\n",
      "248      18603\n",
      "467      13978\n",
      "811      10600\n",
      "Name: square_meters, dtype: int64\n",
      "241    1\n",
      "965    1\n",
      "227    1\n",
      "90     1\n",
      "92     1\n",
      "642    1\n",
      "938    1\n",
      "454    1\n",
      "100    1\n",
      "792    1\n",
      "Name: square_meters, dtype: int64\n"
     ]
    }
   ],
   "source": [
    "#Display the extreme values of 'square_meters'\n",
    "print(df['square_meters'].sort_values(ascending=False).head(10))\n",
    "print(df['square_meters'].sort_values(ascending=True).head(10))"
   ]
  },
  {
   "cell_type": "code",
   "execution_count": 31,
   "id": "44ad5da2-eab4-4740-abf7-782e08fde3a6",
   "metadata": {},
   "outputs": [
    {
     "data": {
      "image/png": "[encoded data removed]",
      "text/plain": [
       "<Figure size 1000x600 with 1 Axes>"
      ]
     },
     "metadata": {},
     "output_type": "display_data"
    },
    {
     "name": "stdout",
     "output_type": "stream",
     "text": [
      "              price  square_meters     bedrooms      parking     bathroom\n",
      "count  1.047000e+03    1047.000000  1047.000000  1047.000000  1047.000000\n",
      "mean   4.145345e+05     373.107927     3.410697     2.847182     2.870105\n",
      "std    4.484442e+05     652.670478     1.502515     2.126845     1.826178\n",
      "min    1.000000e+00       1.000000     0.000000     0.000000     1.000000\n",
      "25%    1.500000e+05     107.500000     3.000000     2.000000     2.000000\n",
      "50%    2.830000e+05     201.000000     3.000000     2.000000     3.000000\n",
      "75%    4.750000e+05     427.000000     4.000000     3.000000     4.000000\n",
      "max    5.622435e+06    8000.000000    10.000000    20.000000    20.000000\n"
     ]
    }
   ],
   "source": [
    "#Define a reasonable limit for square meters\n",
    "upper_limit = 10000\n",
    "\n",
    "#Remove values that exceed the limit\n",
    "df = df[df['square_meters'] <= upper_limit]\n",
    "\n",
    "#Visualize the distribution of square meters\n",
    "plt.figure(figsize=(10, 6))\n",
    "sns.histplot(df['square_meters'], kde=True)\n",
    "plt.title('Distribution of Square Meters After Removing Extremes')\n",
    "plt.xlabel('Square Meters')\n",
    "plt.ylabel('Frequency')\n",
    "plt.show()\n",
    "\n",
    "#Review the descriptive statistics\n",
    "cleaned_stats = df.describe()\n",
    "print(cleaned_stats)"
   ]
  },
  {
   "cell_type": "code",
   "execution_count": 32,
   "id": "041b2dfb-9bde-44b2-a0e7-d7393031bad7",
   "metadata": {},
   "outputs": [
    {
     "name": "stdout",
     "output_type": "stream",
     "text": [
      "Top 10 valores más altos en square_meters:\n",
      "669    8000\n",
      "141    6800\n",
      "890    6710\n",
      "914    5730\n",
      "259    5253\n",
      "112    5000\n",
      "992    5000\n",
      "800    4939\n",
      "976    4800\n",
      "495    4284\n",
      "Name: square_meters, dtype: int64\n",
      "\n",
      "Top 10 valores más bajos en square_meters:\n",
      "241    1\n",
      "227    1\n",
      "90     1\n",
      "92     1\n",
      "642    1\n",
      "454    1\n",
      "938    1\n",
      "100    1\n",
      "792    1\n",
      "72     1\n",
      "Name: square_meters, dtype: int64\n"
     ]
    }
   ],
   "source": [
    "#Identify extreme values in 'square_meters'\n",
    "print(\"Top 10 valores más altos en square_meters:\")\n",
    "print(df['square_meters'].sort_values(ascending=False).head(10))\n",
    "print(\"\\nTop 10 valores más bajos en square_meters:\")\n",
    "print(df['square_meters'].sort_values(ascending=True).head(10))"
   ]
  },
  {
   "cell_type": "code",
   "execution_count": 33,
   "id": "846fb484-1f73-4ced-9ded-4a947adda443",
   "metadata": {},
   "outputs": [
    {
     "name": "stdout",
     "output_type": "stream",
     "text": [
      "Mean square meters in the range 80-120: 102.67469879518072\n"
     ]
    }
   ],
   "source": [
    "#Calculate the mean of 'square_meters' in the range of 80 to 120\n",
    "mean_square_meters = df[(df['square_meters'] >= 80) & (df['square_meters'] <= 120)]['square_meters'].mean()\n",
    "print(f'Mean square meters in the range 80-120: {mean_square_meters}')"
   ]
  },
  {
   "cell_type": "code",
   "execution_count": 34,
   "id": "2675a2ec-126a-4ff1-902b-2333b9b0a990",
   "metadata": {},
   "outputs": [
    {
     "name": "stderr",
     "output_type": "stream",
     "text": [
      "C:\\Users\\User\\AppData\\Local\\Temp\\ipykernel_15196\\3798570035.py:3: FutureWarning: Setting an item of incompatible dtype is deprecated and will raise an error in a future version of pandas. Value '102.67469879518072' has dtype incompatible with int64, please explicitly cast to a compatible dtype first.\n",
      "  df.loc[df['square_meters'] < lower_limit, 'square_meters'] = mean_square_meters\n"
     ]
    },
    {
     "data": {
      "image/png": "[encoded data removed]",
      "text/plain": [
       "<Figure size 1000x600 with 1 Axes>"
      ]
     },
     "metadata": {},
     "output_type": "display_data"
    },
    {
     "name": "stdout",
     "output_type": "stream",
     "text": [
      "              price  square_meters     bedrooms      parking     bathroom\n",
      "count  1.047000e+03    1047.000000  1047.000000  1047.000000  1047.000000\n",
      "mean   4.145345e+05     381.822119     3.410697     2.847182     2.870105\n",
      "std    4.484442e+05     648.539168     1.502515     2.126845     1.826178\n",
      "min    1.000000e+00     102.674699     0.000000     0.000000     1.000000\n",
      "25%    1.500000e+05     107.500000     3.000000     2.000000     2.000000\n",
      "50%    2.830000e+05     201.000000     3.000000     2.000000     3.000000\n",
      "75%    4.750000e+05     427.000000     4.000000     3.000000     4.000000\n",
      "max    5.622435e+06    8000.000000    10.000000    20.000000    20.000000\n"
     ]
    }
   ],
   "source": [
    "#Define a lower limit (e.g., less than 10 square meters) and replace with the calculated mean\n",
    "lower_limit = 102.67\n",
    "df.loc[df['square_meters'] < lower_limit, 'square_meters'] = mean_square_meters\n",
    "\n",
    "#Visualize the distribution of square meters again\n",
    "plt.figure(figsize=(10, 6))\n",
    "sns.histplot(df['square_meters'], kde=True)\n",
    "plt.title('Distribution of Square Meters After Replacing Low Values')\n",
    "plt.xlabel('Square Meters')\n",
    "plt.ylabel('Frequency')\n",
    "plt.show()\n",
    "\n",
    "#Review the descriptive statistics\n",
    "cleaned_stats = df.describe()\n",
    "print(cleaned_stats)"
   ]
  },
  {
   "cell_type": "code",
   "execution_count": 35,
   "id": "29df3b37-2075-4691-87be-2badbb70e124",
   "metadata": {},
   "outputs": [
    {
     "data": {
      "image/png": "[encoded data removed]",
      "text/plain": [
       "<Figure size 1000x600 with 1 Axes>"
      ]
     },
     "metadata": {},
     "output_type": "display_data"
    }
   ],
   "source": [
    "#Establish reasonable upper limits based on percentiles\n",
    "upper_limit_square_meters = df['square_meters'].quantile(0.99)\n",
    "upper_limit_bedrooms = df['bedrooms'].quantile(0.99)\n",
    "upper_limit_parking = df['parking'].quantile(0.99)\n",
    "upper_limit_bathroom = df['bathroom'].quantile(0.99)\n",
    "\n",
    "#Filter values that exceed the upper limits\n",
    "df = df[df['square_meters'] <= upper_limit_square_meters]\n",
    "df = df[df['bedrooms'] <= upper_limit_bedrooms]\n",
    "df = df[df['parking'] <= upper_limit_parking]\n",
    "df = df[df['bathroom'] <= upper_limit_bathroom]\n",
    "\n",
    "# Visualize the distribution of square meters again\n",
    "plt.figure(figsize=(10, 6))\n",
    "sns.histplot(df['square_meters'], kde=True)\n",
    "plt.title('Distribution of Square Meters After Removing Low and High Extremes')\n",
    "plt.xlabel('Square Meters')\n",
    "plt.ylabel('Frequency')\n",
    "plt.show()"
   ]
  },
  {
   "cell_type": "code",
   "execution_count": 36,
   "id": "c762d0e5-5bb5-4dc1-9dfe-8b3d2a8f1aab",
   "metadata": {},
   "outputs": [
    {
     "name": "stdout",
     "output_type": "stream",
     "text": [
      "              price  square_meters     bedrooms      parking     bathroom\n",
      "count  1.027000e+03    1027.000000  1027.000000  1027.000000  1027.000000\n",
      "mean   4.021745e+05     318.253904     3.365141     2.820837     2.785784\n",
      "std    4.067649e+05     340.891937     1.415616     2.020614     1.501420\n",
      "min    1.000000e+00     102.674699     0.000000     0.000000     1.000000\n",
      "25%    1.500000e+05     107.000000     3.000000     2.000000     2.000000\n",
      "50%    2.830000e+05     200.000000     3.000000     2.000000     2.000000\n",
      "75%    4.650000e+05     400.000000     4.000000     3.000000     4.000000\n",
      "max    3.300000e+06    3610.000000    10.000000    10.000000     8.000000\n"
     ]
    }
   ],
   "source": [
    "cleaned_stats = df.describe()\n",
    "print(cleaned_stats)"
   ]
  },
  {
   "cell_type": "code",
   "execution_count": 37,
   "id": "1d95140a-dfb5-41ef-9953-d3baeb6d3500",
   "metadata": {},
   "outputs": [
    {
     "name": "stdout",
     "output_type": "stream",
     "text": [
      "Mean bedrooms (excluding zeros): 3.375\n",
      "Mean parking (excluding zeros): 2.93515704154002\n",
      "Mean bathroom (excluding zeros): 2.7857838364167478\n"
     ]
    }
   ],
   "source": [
    "#Calculate the mean of each column excluding zero values\n",
    "mean_bedrooms = df[df['bedrooms'] > 0]['bedrooms'].mean()\n",
    "mean_parking = df[df['parking'] > 0]['parking'].mean()\n",
    "mean_bathroom = df[df['bathroom'] > 0]['bathroom'].mean()\n",
    "\n",
    "print(f'Mean bedrooms (excluding zeros): {mean_bedrooms}')\n",
    "print(f'Mean parking (excluding zeros): {mean_parking}')\n",
    "print(f'Mean bathroom (excluding zeros): {mean_bathroom}')"
   ]
  },
  {
   "cell_type": "code",
   "execution_count": 38,
   "id": "e97d9093-11ff-4905-aaca-7fd24c3eb977",
   "metadata": {},
   "outputs": [
    {
     "name": "stderr",
     "output_type": "stream",
     "text": [
      "C:\\Users\\User\\AppData\\Local\\Temp\\ipykernel_15196\\1720420210.py:2: FutureWarning: Setting an item of incompatible dtype is deprecated and will raise an error in a future version of pandas. Value '3.375' has dtype incompatible with int32, please explicitly cast to a compatible dtype first.\n",
      "  df.loc[df['bedrooms'] == 0, 'bedrooms'] = mean_bedrooms\n",
      "C:\\Users\\User\\AppData\\Local\\Temp\\ipykernel_15196\\1720420210.py:3: FutureWarning: Setting an item of incompatible dtype is deprecated and will raise an error in a future version of pandas. Value '2.93515704154002' has dtype incompatible with int32, please explicitly cast to a compatible dtype first.\n",
      "  df.loc[df['parking'] == 0, 'parking'] = mean_parking\n",
      "C:\\Users\\User\\AppData\\Local\\Temp\\ipykernel_15196\\1720420210.py:4: FutureWarning: Setting an item of incompatible dtype is deprecated and will raise an error in a future version of pandas. Value '2.7857838364167478' has dtype incompatible with int32, please explicitly cast to a compatible dtype first.\n",
      "  df.loc[df['bathroom'] == 0, 'bathroom'] = mean_bathroom\n"
     ]
    }
   ],
   "source": [
    "#Replace zero values with the calculated mean\n",
    "df.loc[df['bedrooms'] == 0, 'bedrooms'] = mean_bedrooms\n",
    "df.loc[df['parking'] == 0, 'parking'] = mean_parking\n",
    "df.loc[df['bathroom'] == 0, 'bathroom'] = mean_bathroom"
   ]
  },
  {
   "cell_type": "code",
   "execution_count": 39,
   "id": "09f1e233-0a60-4241-b9de-a27f92ff0281",
   "metadata": {},
   "outputs": [
    {
     "name": "stdout",
     "output_type": "stream",
     "text": [
      "              price  square_meters     bedrooms      parking     bathroom\n",
      "count  1.027000e+03    1027.000000  1027.000000  1027.000000  1027.000000\n",
      "mean   4.021745e+05     318.253904     3.375000     2.935157     2.785784\n",
      "std    4.067649e+05     340.891937     1.403838     1.939095     1.501420\n",
      "min    1.000000e+00     102.674699     1.000000     1.000000     1.000000\n",
      "25%    1.500000e+05     107.000000     3.000000     2.000000     2.000000\n",
      "50%    2.830000e+05     200.000000     3.000000     2.000000     2.000000\n",
      "75%    4.650000e+05     400.000000     4.000000     3.000000     4.000000\n",
      "max    3.300000e+06    3610.000000    10.000000    10.000000     8.000000\n"
     ]
    }
   ],
   "source": [
    "cleaned_stats = df.describe()\n",
    "print(cleaned_stats)"
   ]
  },
  {
   "cell_type": "code",
   "execution_count": 40,
   "id": "f28ca049-769c-4602-abcd-d0d405067228",
   "metadata": {},
   "outputs": [],
   "source": [
    "df_copy = df.copy()"
   ]
  },
  {
   "cell_type": "code",
   "execution_count": 41,
   "id": "894423ea-82dd-4e4e-8224-2b4daed16e64",
   "metadata": {},
   "outputs": [],
   "source": [
    "#Establish a reasonable limit for prices (e.g., remove values less than 10,000)\n",
    "df_copy = df_copy[df_copy['price'] >= 10000]"
   ]
  },
  {
   "cell_type": "code",
   "execution_count": 42,
   "id": "d1c269a8-2abc-41a6-a673-243134ca6f63",
   "metadata": {},
   "outputs": [],
   "source": [
    "#Establish an upper limit for prices (e.g., the 99th percentile)\n",
    "upper_limit_price = df_copy['price'].quantile(0.99)\n",
    "df_copy = df_copy[df_copy['price'] <= upper_limit_price]"
   ]
  },
  {
   "cell_type": "code",
   "execution_count": 43,
   "id": "996f3dc8-3e06-4ea7-9ce6-1ffc386855c0",
   "metadata": {},
   "outputs": [
    {
     "name": "stdout",
     "output_type": "stream",
     "text": [
      "              price  square_meters    bedrooms     parking    bathroom\n",
      "count  9.800000e+02     980.000000  980.000000  980.000000  980.000000\n",
      "mean   3.741934e+05     283.580342    3.293622    2.866316    2.718367\n",
      "std    3.422445e+05     228.226209    1.217338    1.856336    1.417197\n",
      "min    1.100000e+04     102.674699    1.000000    1.000000    1.000000\n",
      "25%    1.500000e+05     106.000000    3.000000    2.000000    2.000000\n",
      "50%    2.790000e+05     200.000000    3.000000    2.000000    2.000000\n",
      "75%    4.500000e+05     391.250000    4.000000    3.000000    4.000000\n",
      "max    1.980000e+06    1350.000000    8.000000   10.000000    7.000000\n"
     ]
    }
   ],
   "source": [
    "#Establish reasonable upper limits based on percentiles\n",
    "upper_limit_square_meters = df_copy['square_meters'].quantile(0.99)\n",
    "upper_limit_bedrooms = df_copy['bedrooms'].quantile(0.99)\n",
    "upper_limit_parking = df_copy['parking'].quantile(0.99)\n",
    "upper_limit_bathroom = df_copy['bathroom'].quantile(0.99)\n",
    "\n",
    "#Filter values that exceed the upper limits\n",
    "df_copy = df_copy[df_copy['square_meters'] <= upper_limit_square_meters]\n",
    "df_copy = df_copy[df_copy['bedrooms'] <= upper_limit_bedrooms]\n",
    "df_copy = df_copy[df_copy['parking'] <= upper_limit_parking]\n",
    "df_copy = df_copy[df_copy['bathroom'] <= upper_limit_bathroom]\n",
    "\n",
    "#Review the descriptive statistics again\n",
    "cleaned_stats = df_copy.describe()\n",
    "print(cleaned_stats)"
   ]
  },
  {
   "cell_type": "code",
   "execution_count": 45,
   "id": "2eb104b1-0bca-4b46-8ff6-2b5c4c38402e",
   "metadata": {},
   "outputs": [
    {
     "data": {
      "image/png": "[encoded data removed]",
      "text/plain": [
       "<Figure size 1000x600 with 1 Axes>"
      ]
     },
     "metadata": {},
     "output_type": "display_data"
    }
   ],
   "source": [
    "#Visualize the distribution of square meters after cleaning\n",
    "plt.figure(figsize=(10, 6))\n",
    "sns.histplot(df_copy['square_meters'], kde=True)\n",
    "plt.title('Distribution of Square Meters After Removing Low and High Extremes')\n",
    "plt.xlabel('Square Meters')\n",
    "plt.ylabel('Frequency')\n",
    "plt.show()"
   ]
  },
  {
   "cell_type": "code",
   "execution_count": 46,
   "id": "c7fa58c9-57b7-4f55-9704-053c0220e8c5",
   "metadata": {},
   "outputs": [
    {
     "data": {
      "image/png": "[encoded data removed]",
      "text/plain": [
       "<Figure size 1000x600 with 1 Axes>"
      ]
     },
     "metadata": {},
     "output_type": "display_data"
    }
   ],
   "source": [
    "#Visualize the distribution of prices after cleaning\n",
    "plt.figure(figsize=(10, 6))\n",
    "sns.histplot(df_copy['price'], kde=True)\n",
    "plt.title('Distribution of Property Prices After Cleaning')\n",
    "plt.xlabel('Price')\n",
    "plt.ylabel('Frequency')\n",
    "plt.show()"
   ]
  },
  {
   "cell_type": "code",
   "execution_count": 48,
   "id": "1d997c77-f6cf-4659-b4ca-dddb9eae3222",
   "metadata": {},
   "outputs": [],
   "source": [
    "df_copy.to_csv('cleaned_data_final.csv', index=False)"
   ]
  }
 ],
 "metadata": {
  "kernelspec": {
   "display_name": "Python 3 (ipykernel)",
   "language": "python",
   "name": "python3"
  },
  "language_info": {
   "codemirror_mode": {
    "name": "ipython",
    "version": 3
   },
   "file_extension": ".py",
   "mimetype": "text/x-python",
   "name": "python",
   "nbconvert_exporter": "python",
   "pygments_lexer": "ipython3",
   "version": "3.12.1"
  }
 },
 "nbformat": 4,
 "nbformat_minor": 5
}
